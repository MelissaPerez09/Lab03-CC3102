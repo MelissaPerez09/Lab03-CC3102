{
 "cells": [
  {
   "cell_type": "markdown",
   "metadata": {},
   "source": [
    "## Laboratorio 03 \n",
    "### Histogram of Gradients (HOG) de Dalal & Triggs\n",
    "- Sara Echeverría 21371\n",
    "- Melissa Pérez 21385\n",
    "- Ricardo Mendez 21289\n",
    "\n",
    "Repositorio: https://github.com/MelissaPerez09/Lab03-CC3102"
   ]
  },
  {
   "cell_type": "markdown",
   "metadata": {},
   "source": [
    "### Task 01\n",
    "Convertir una imagen a escala de grises y redimensionarla según un factor de escala"
   ]
  },
  {
   "cell_type": "code",
   "execution_count": null,
   "metadata": {
    "vscode": {
     "languageId": "plaintext"
    }
   },
   "outputs": [],
   "source": []
  },
  {
   "cell_type": "markdown",
   "metadata": {},
   "source": [
    "### Task 02\n",
    "Calcular la magnitud y el ángulo del gradiente de una imagen en escala de grises utilizando los filtros de Prewitt o Sobel."
   ]
  },
  {
   "cell_type": "code",
   "execution_count": null,
   "metadata": {
    "vscode": {
     "languageId": "plaintext"
    }
   },
   "outputs": [],
   "source": []
  },
  {
   "cell_type": "markdown",
   "metadata": {},
   "source": [
    "### Task 03\n",
    "Construir un conjunto de bloques de tamaño especificado para almacenar la magnitud y el ángulo del gradiente de la imagen."
   ]
  },
  {
   "cell_type": "code",
   "execution_count": null,
   "metadata": {
    "vscode": {
     "languageId": "plaintext"
    }
   },
   "outputs": [],
   "source": []
  },
  {
   "cell_type": "markdown",
   "metadata": {},
   "source": [
    "### Task 04\n",
    "Generar histogramas de gradientes a partir de los bloques calculados, asignando votos a los bines mediante interpolación bilineal."
   ]
  },
  {
   "cell_type": "code",
   "execution_count": null,
   "metadata": {
    "vscode": {
     "languageId": "plaintext"
    }
   },
   "outputs": [],
   "source": []
  },
  {
   "cell_type": "markdown",
   "metadata": {},
   "source": [
    "### Task 05\n",
    "Visualizar los histogramas de cada bloque en una imagen con fondo negro, representando las direcciones de los gradientes."
   ]
  },
  {
   "cell_type": "code",
   "execution_count": null,
   "metadata": {
    "vscode": {
     "languageId": "plaintext"
    }
   },
   "outputs": [],
   "source": []
  },
  {
   "cell_type": "markdown",
   "metadata": {},
   "source": [
    "### Task 06\n",
    "Comparar la implementación propia del algoritmo HOG con la versión de la función _hog_ de _scikit-image_."
   ]
  },
  {
   "cell_type": "code",
   "execution_count": null,
   "metadata": {
    "vscode": {
     "languageId": "plaintext"
    }
   },
   "outputs": [],
   "source": []
  },
  {
   "cell_type": "markdown",
   "metadata": {},
   "source": [
    "### Task 07\n",
    "Implementar un método de detección de personas usando OpenCV y visualizar los resultados sobre imágenes de prueba."
   ]
  },
  {
   "cell_type": "code",
   "execution_count": null,
   "metadata": {
    "vscode": {
     "languageId": "plaintext"
    }
   },
   "outputs": [],
   "source": []
  }
 ],
 "metadata": {
  "language_info": {
   "name": "python"
  }
 },
 "nbformat": 4,
 "nbformat_minor": 2
}
